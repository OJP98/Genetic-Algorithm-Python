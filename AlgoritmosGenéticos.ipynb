{
  "nbformat": 4,
  "nbformat_minor": 0,
  "metadata": {
    "colab": {
      "name": "AlgoritmosGenéticos",
      "provenance": [],
      "collapsed_sections": []
    },
    "kernelspec": {
      "name": "python3",
      "display_name": "Python 3"
    }
  },
  "cells": [
    {
      "cell_type": "markdown",
      "metadata": {
        "id": "eJuHXUIT1CRT"
      },
      "source": [
        "# Genetic Algorithm - Python Implementation\n",
        "\n",
        "Developers:\n",
        "* Oscar Juárez\n",
        "* José Cifuentes\n",
        "\n",
        "Universidad del Valle de Guatemala - 2020\n"
      ]
    },
    {
      "cell_type": "markdown",
      "metadata": {
        "id": "rq3LxK_w1L1q"
      },
      "source": [
        "## Librerías utilizadas y tipo de dato implementado"
      ]
    },
    {
      "cell_type": "code",
      "metadata": {
        "id": "CEnW5QbNpaIQ"
      },
      "source": [
        "from pprint import pprint\n",
        "from random import choices, randint, random, randrange, uniform\n",
        "from typing import List, Tuple"
      ],
      "execution_count": null,
      "outputs": []
    },
    {
      "cell_type": "code",
      "metadata": {
        "id": "GngXbEbcMigj"
      },
      "source": [
        "Phenotype = Tuple[float, float, float]\n",
        "Population = List[Phenotype]"
      ],
      "execution_count": null,
      "outputs": []
    },
    {
      "cell_type": "markdown",
      "metadata": {
        "id": "0WRo3I9tcEaQ"
      },
      "source": [
        "# Métodos generales\n",
        "\n",
        "Se crean métodos para generar fenotipos, generar poblaciones, hacer el cross over de dos fenotipos, mutar a los hijos, ordenar a la población en base al fitness y la función fitness como tal."
      ]
    },
    {
      "cell_type": "code",
      "metadata": {
        "id": "Lag_zHJOMbvp"
      },
      "source": [
        "def GeneratePhenotype(max_range: int) -> Phenotype:\n",
        "    return [uniform(0, max_range), uniform(0, max_range), 0]"
      ],
      "execution_count": null,
      "outputs": []
    },
    {
      "cell_type": "code",
      "metadata": {
        "id": "HEj-E69aMubH"
      },
      "source": [
        "def GeneratePopulation(size: int, max_genome_range: int) -> Population:\n",
        "    return [GeneratePhenotype(max_genome_range) for _ in range(size)]"
      ],
      "execution_count": null,
      "outputs": []
    },
    {
      "cell_type": "code",
      "metadata": {
        "id": "RCXcX286MwTP"
      },
      "source": [
        "def CrossOver(a: Phenotype, b: Phenotype) -> Tuple[Phenotype, Phenotype]:\n",
        "    child1 = [a[0], b[1], 0]\n",
        "    child2 = [b[0], a[1], 0]\n",
        "    return [child1, child2]"
      ],
      "execution_count": null,
      "outputs": []
    },
    {
      "cell_type": "code",
      "metadata": {
        "id": "93J90caZMx_H"
      },
      "source": [
        "def Mutate(phenotype: Phenotype, num: int = 1, prob: float = 0.5) -> Phenotype:\n",
        "    for _ in range(num):\n",
        "\n",
        "        if random() < prob:\n",
        "            phenotype[0] = phenotype[0] + uniform(1, MAX_VAL)\n",
        "\n",
        "        if random() < prob:\n",
        "            phenotype[1] = phenotype[1] + uniform(1, MAX_VAL)\n",
        "\n",
        "    return phenotype"
      ],
      "execution_count": null,
      "outputs": []
    },
    {
      "cell_type": "code",
      "metadata": {
        "id": "pd4XWrV5MzTo"
      },
      "source": [
        "def SortPopulation(population: Population) -> Population:\n",
        "    return sorted(population, key=lambda x: x[2], reverse=True)"
      ],
      "execution_count": null,
      "outputs": []
    },
    {
      "cell_type": "code",
      "metadata": {
        "id": "gQBcFgT6M1Q_"
      },
      "source": [
        "def FilterPopulation(population: Population) -> Population:\n",
        "    return [phenotype for phenotype in population if phenotype[2] > 0]"
      ],
      "execution_count": null,
      "outputs": []
    },
    {
      "cell_type": "code",
      "metadata": {
        "id": "IJBwHwg367Y7"
      },
      "source": [
        "def FitnessPopulation(population,fenotipoTop,GetZ,ValidarCondiciones):\n",
        "  nuevoFenotipoTop=fenotipoTop\n",
        "\n",
        "  for i in range(len(population)):\n",
        "    population[i],nuevoFenotipoTop=Fitness(population[i],nuevoFenotipoTop,GetZ,ValidarCondiciones)\n",
        "\n",
        "  return population,nuevoFenotipoTop"
      ],
      "execution_count": null,
      "outputs": []
    },
    {
      "cell_type": "markdown",
      "metadata": {
        "id": "V68HDhGib8wd"
      },
      "source": [
        "# Task 1\n"
      ]
    },
    {
      "cell_type": "markdown",
      "metadata": {
        "id": "J9ekYiRkcKhQ"
      },
      "source": [
        "## Métodos task 1"
      ]
    },
    {
      "cell_type": "code",
      "metadata": {
        "id": "X1sZIuBv2IaR"
      },
      "source": [
        "def GetZ1(x1: int, x2:int) -> int:\n",
        "  return 15*x1 + 30*x2 + 4*x1*x2 - 2*x1**2 -4*x2**2"
      ],
      "execution_count": null,
      "outputs": []
    },
    {
      "cell_type": "code",
      "metadata": {
        "id": "t0qDzYPy22sp"
      },
      "source": [
        "# Return 0 if pass all validations, otherwise the phenotype is invalid\n",
        "def ValidarCondiciones1(x1: int, x2: int) -> int:\n",
        "  contador=0\n",
        "  if not (x1 + 2*x2 <=30):\n",
        "    contador+=1\n",
        "  \n",
        "  if not (x1>=0 and x2>=0):\n",
        "    contador +=1\n",
        "  \n",
        "  return contador"
      ],
      "execution_count": null,
      "outputs": []
    },
    {
      "cell_type": "code",
      "metadata": {
        "id": "DcgNRQ9kM2q4"
      },
      "source": [
        "def Fitness(phenotype, fenotipoTop, GetZ, ValidarCondiciones):\n",
        "    # Revisar condiciones\n",
        "    if (ValidarCondiciones(phenotype[0],phenotype[1])>0):\n",
        "      # Si no cumplen return 0\n",
        "      phenotype[2]=0\n",
        "      return phenotype,fenotipoTop\n",
        "\n",
        "    # Generar z\n",
        "    valorZ=GetZ(phenotype[0],phenotype[1])\n",
        "\n",
        "    valorZTop=GetZ(fenotipoTop[0],fenotipoTop[1])\n",
        "    # Regla de 3\n",
        "    phenotype[2]=(valorZ*100)/valorZTop\n",
        "    # Actualizar fitnessTop si es necesario\n",
        "    if (valorZ>valorZTop):\n",
        "      return phenotype,phenotype\n",
        "\n",
        "    return phenotype,fenotipoTop"
      ],
      "execution_count": null,
      "outputs": []
    },
    {
      "cell_type": "markdown",
      "metadata": {
        "id": "r4RTvfj9cUkA"
      },
      "source": [
        "## Configuración"
      ]
    },
    {
      "cell_type": "code",
      "metadata": {
        "id": "BexHK8GHM4RA"
      },
      "source": [
        "MAX_VAL = 5\n",
        "MAX_GENERATIONS = 10\n",
        "population = GeneratePopulation(size=4, max_genome_range=10)\n",
        "fenotipoTop = population[0]\n",
        "fenotipoTop[2]=1"
      ],
      "execution_count": null,
      "outputs": []
    },
    {
      "cell_type": "markdown",
      "metadata": {
        "id": "2gxaN0WOcY6Y"
      },
      "source": [
        "## Simulación de evolución\n",
        "\n",
        "Para cada ciclo de evolución, primero obtenemos el fitness de cada individuo y aquel fenotipo con mayor fitness, luego se filtra la población y finalmente se permite a los individuos tener 2 hijos cada uno"
      ]
    },
    {
      "cell_type": "code",
      "metadata": {
        "id": "x6Romc-CNDAB"
      },
      "source": [
        "for _ in range(MAX_GENERATIONS):\n",
        "    # Fiteness\n",
        "    #print('****************************************')\n",
        "    population,fenotipoTop=FitnessPopulation(population,fenotipoTop,GetZ1,ValidarCondiciones1)\n",
        "    #print(f'Population {population} \\n FenotipoTop {fenotipoTop}')\n",
        "    #print()\n",
        "\n",
        "    # Filter out those who have a fitness value of 0\n",
        "    filteredPopulation = FilterPopulation(population)\n",
        "    #print(f'Filtered Population {filteredPopulation}')\n",
        "    #print()\n",
        "\n",
        "    # Select the best phenotypes based on the fitness value\n",
        "    sortedPopulation = SortPopulation(filteredPopulation)\n",
        "    #print(f'Sorted Population {sortedPopulation}')\n",
        "    #print()\n",
        "\n",
        "    nextGen = []\n",
        "\n",
        "    # Let the parents generate a new generation\n",
        "    for i in range(0, len(sortedPopulation)-1):\n",
        "        child1, child2 = CrossOver(\n",
        "            sortedPopulation[i], sortedPopulation[i + 1])\n",
        "        child1 = Mutate(child1)\n",
        "        child2 = Mutate(child2)\n",
        "        nextGen += [child1, child2]\n",
        "\n",
        "    population = nextGen\n"
      ],
      "execution_count": null,
      "outputs": []
    },
    {
      "cell_type": "markdown",
      "metadata": {
        "id": "st-XsxUoccLJ"
      },
      "source": [
        "### Resultado final: "
      ]
    },
    {
      "cell_type": "code",
      "metadata": {
        "id": "vFx0bpx0NEIJ"
      },
      "source": [
        "print(f'''\n",
        "X1 = {fenotipoTop[0]} \n",
        "X2 = {fenotipoTop[1]} \n",
        "Y = {GetZ1(fenotipoTop[0],fenotipoTop[1])}\n",
        "CONDITIONS = {ValidarCondiciones1(fenotipoTop[0],fenotipoTop[1])==0}\n",
        "''')\n"
      ],
      "execution_count": null,
      "outputs": []
    },
    {
      "cell_type": "markdown",
      "metadata": {
        "id": "j2eP970Z2hZz"
      },
      "source": [
        "El resultado final indica los valores que maxmizan la función, y CONDITION indica si esos valores cumplen con las condiciones establecidas en los requerimientos. Cabe mencionar que 10 generaciones fueron suficientes para generar un resultado adecuado."
      ]
    },
    {
      "cell_type": "markdown",
      "metadata": {
        "id": "f_Q_HM6Dfi-a"
      },
      "source": [
        "# Task 2\n"
      ]
    },
    {
      "cell_type": "markdown",
      "metadata": {
        "id": "e7tFj2iJfi-c"
      },
      "source": [
        "## Métodos task 2"
      ]
    },
    {
      "cell_type": "code",
      "metadata": {
        "id": "0BT14AAhfi-d"
      },
      "source": [
        "def GetZ2(x1: int, x2:int) -> int:\n",
        "  return 3*x1+5*x2"
      ],
      "execution_count": null,
      "outputs": []
    },
    {
      "cell_type": "code",
      "metadata": {
        "id": "Dk9DGWwufi-g"
      },
      "source": [
        "# Return 0 if pass all validations, otherwise the phenotype is invalid\n",
        "def ValidarCondiciones2(x1: int, x2: int) -> int:\n",
        "  contador=0\n",
        "  if not (x1<=4):\n",
        "    contador+=1\n",
        "\n",
        "  if not (2*x2<=12):\n",
        "    contador+=1\n",
        "  \n",
        "  if not (3*x1+2*x2<=18):\n",
        "    contador+=1\n",
        "  \n",
        "  if not (x1>=0 and x2>=0):\n",
        "    contador +=1\n",
        "  \n",
        "  return contador"
      ],
      "execution_count": null,
      "outputs": []
    },
    {
      "cell_type": "code",
      "metadata": {
        "id": "wETGhoMjhPG7"
      },
      "source": [
        "def Fitness(phenotype,fenotipoTop,GetZ,ValidarCondiciones):\n",
        "    # Revisar condiciones\n",
        "    if (ValidarCondiciones(phenotype[0],phenotype[1])>0):\n",
        "      # Si no cumplen return 0\n",
        "      phenotype[2]=0\n",
        "      #print(phenotype)\n",
        "      return phenotype,fenotipoTop\n",
        "\n",
        "    # Generar z\n",
        "    valorZ=GetZ(phenotype[0],phenotype[1])\n",
        "\n",
        "    valorZTop=GetZ(fenotipoTop[0],fenotipoTop[1])\n",
        "    # Regla de 3\n",
        "    phenotype[2]=(valorZ*100)/valorZTop\n",
        "    # Actualizar fitnessTop si es necesario\n",
        "    if (valorZ>valorZTop):\n",
        "      #print(f'Se actualiza {phenotype}')\n",
        "      return phenotype,phenotype\n",
        "  \n",
        "    return phenotype,fenotipoTop"
      ],
      "execution_count": null,
      "outputs": []
    },
    {
      "cell_type": "markdown",
      "metadata": {
        "id": "bV3zXbBufi-j"
      },
      "source": [
        "## Configuración"
      ]
    },
    {
      "cell_type": "code",
      "metadata": {
        "id": "a8geGi16fi-j"
      },
      "source": [
        "MAX_VAL = 1\n",
        "MAX_GENERATIONS = 25\n",
        "population = GeneratePopulation(size=4, max_genome_range=2)\n",
        "fenotipoTop = population[0]\n",
        "fenotipoTop[2]=1"
      ],
      "execution_count": null,
      "outputs": []
    },
    {
      "cell_type": "markdown",
      "metadata": {
        "id": "yFBKJfa2fi-m"
      },
      "source": [
        "## Simulación de evolución"
      ]
    },
    {
      "cell_type": "code",
      "metadata": {
        "id": "Cw0uIf9vfi-m"
      },
      "source": [
        "for _ in range(MAX_GENERATIONS):\n",
        "    # Fiteness\n",
        "    #print('****************************************')\n",
        "    population,fenotipoTop=FitnessPopulation(population,fenotipoTop,GetZ2,ValidarCondiciones2)\n",
        "    #print(f'Population {population} \\n FenotipoTop {fenotipoTop}')\n",
        "    #print()\n",
        "\n",
        "    # Filter out those who have a fitness value of 0\n",
        "    filteredPopulation = FilterPopulation(population)\n",
        "    #print(f'Filtered Population {filteredPopulation}')\n",
        "    #print()\n",
        "\n",
        "    # Select the best phenotypes based on the fitness value\n",
        "    sortedPopulation = SortPopulation(filteredPopulation)\n",
        "    #print(f'Sorted Population {sortedPopulation}')\n",
        "    #print()\n",
        "    # TODO: Get x% of the sorted population\n",
        "\n",
        "    nextGen = []\n",
        "\n",
        "    for i in range(0, len(sortedPopulation)-1):\n",
        "        child1, child2 = CrossOver(\n",
        "            sortedPopulation[i], sortedPopulation[i + 1])\n",
        "        child1 = Mutate(child1)\n",
        "        child2 = Mutate(child2)\n",
        "        nextGen += [child1, child2]\n",
        "\n",
        "    population = nextGen\n"
      ],
      "execution_count": null,
      "outputs": []
    },
    {
      "cell_type": "markdown",
      "metadata": {
        "id": "YSJWuWDPfi-o"
      },
      "source": [
        "### Resultado final: "
      ]
    },
    {
      "cell_type": "code",
      "metadata": {
        "id": "mTGp_okofi-p"
      },
      "source": [
        "print(f'''\n",
        "X1 = {fenotipoTop[0]} \n",
        "X2 = {fenotipoTop[1]} \n",
        "Y = {GetZ2(fenotipoTop[0],fenotipoTop[1])}\n",
        "CONDITIONS = {ValidarCondiciones2(fenotipoTop[0],fenotipoTop[1])==0}\n",
        "''')\n"
      ],
      "execution_count": null,
      "outputs": []
    },
    {
      "cell_type": "markdown",
      "metadata": {
        "id": "_Gz-0RggoSVc"
      },
      "source": [
        "# Task 3\n"
      ]
    },
    {
      "cell_type": "markdown",
      "metadata": {
        "id": "kPh4rgf-oSVd"
      },
      "source": [
        "## Métodos task 3"
      ]
    },
    {
      "cell_type": "code",
      "metadata": {
        "id": "bxNFkc0moSVd"
      },
      "source": [
        "def GetZ3(x1: int, x2:int) -> int:\n",
        "  return 5*x1-x1**2+8*x2-2*x2**2"
      ],
      "execution_count": null,
      "outputs": []
    },
    {
      "cell_type": "code",
      "metadata": {
        "id": "gov_Ax9foSVl"
      },
      "source": [
        "# Return 0 if pass all validations, otherwise the phenotype is invalid\n",
        "def ValidarCondiciones3(x1: int, x2: int) -> int:\n",
        "  contador=0\n",
        "  if not (3*x1+2*x2<=6):\n",
        "    contador+=1\n",
        "  \n",
        "  if not (x1>=0 and x2>=0):\n",
        "    contador +=1\n",
        "  \n",
        "  return contador"
      ],
      "execution_count": null,
      "outputs": []
    },
    {
      "cell_type": "code",
      "metadata": {
        "id": "lteGb3ffoSVp"
      },
      "source": [
        "def Fitness(phenotype,fenotipoTop,GetZ,ValidarCondiciones):\n",
        "    # Revisar condiciones\n",
        "    if (ValidarCondiciones(phenotype[0],phenotype[1])>0):\n",
        "      # Si no cumplen return 0\n",
        "      phenotype[2]=0\n",
        "      #print(phenotype)\n",
        "      return phenotype,fenotipoTop\n",
        "    # Generar z\n",
        "    valorZ=GetZ(phenotype[0],phenotype[1])\n",
        "\n",
        "    valorZTop=GetZ(fenotipoTop[0],fenotipoTop[1])\n",
        "    # Regla de 3\n",
        "    phenotype[2]=(valorZ*100)/valorZTop\n",
        "    # Actualizar fitnessTop si es necesario\n",
        "    if (valorZ>valorZTop):\n",
        "      #print(f'Se actualiza {phenotype}')\n",
        "      return phenotype,phenotype\n",
        "\n",
        "    return phenotype,fenotipoTop"
      ],
      "execution_count": null,
      "outputs": []
    },
    {
      "cell_type": "markdown",
      "metadata": {
        "id": "NWCDYi8IoSVu"
      },
      "source": [
        "## Configuración"
      ]
    },
    {
      "cell_type": "code",
      "metadata": {
        "id": "gSkZDrDooSVw"
      },
      "source": [
        "MAX_VAL = 1\n",
        "MAX_GENERATIONS = 5\n",
        "population = GeneratePopulation(size=4, max_genome_range=1)\n",
        "fenotipoTop = population[0]\n",
        "fenotipoTop[2]=1"
      ],
      "execution_count": null,
      "outputs": []
    },
    {
      "cell_type": "markdown",
      "metadata": {
        "id": "UQc0KTtzoSV1"
      },
      "source": [
        "## Simulación de evolución"
      ]
    },
    {
      "cell_type": "code",
      "metadata": {
        "id": "opSPHgfQoSV2"
      },
      "source": [
        "for _ in range(MAX_GENERATIONS):\n",
        "    # Fiteness\n",
        "    #print('****************************************')\n",
        "    population,fenotipoTop=FitnessPopulation(population,fenotipoTop,GetZ3,ValidarCondiciones3)\n",
        "    #print(f'Population {population} \\n FenotipoTop {fenotipoTop}')\n",
        "    #print()\n",
        "\n",
        "    # Filter out those who have a fitness value of 0\n",
        "    filteredPopulation = FilterPopulation(population)\n",
        "    #print(f'Filtered Population {filteredPopulation}')\n",
        "    #print()\n",
        "\n",
        "    # Select the best phenotypes based on the fitness value\n",
        "    sortedPopulation = SortPopulation(filteredPopulation)\n",
        "    #print(f'Sorted Population {sortedPopulation}')\n",
        "    #print()\n",
        "    # TODO: Get x% of the sorted population\n",
        "\n",
        "    nextGen = []\n",
        "\n",
        "    for i in range(0, len(sortedPopulation)-1):\n",
        "        child1, child2 = CrossOver(\n",
        "            sortedPopulation[i], sortedPopulation[i + 1])\n",
        "        child1 = Mutate(child1)\n",
        "        child2 = Mutate(child2)\n",
        "        nextGen += [child1, child2]\n",
        "\n",
        "    population = nextGen\n"
      ],
      "execution_count": null,
      "outputs": []
    },
    {
      "cell_type": "markdown",
      "metadata": {
        "id": "3Fyv37WBoSV7"
      },
      "source": [
        "### Resultado final: "
      ]
    },
    {
      "cell_type": "code",
      "metadata": {
        "id": "tmGZA1DEoSV8"
      },
      "source": [
        "print(f'''\n",
        "X1 = {fenotipoTop[0]} \n",
        "X2 = {fenotipoTop[1]} \n",
        "Y = {GetZ2(fenotipoTop[0],fenotipoTop[1])}\n",
        "CONDITIONS = {ValidarCondiciones3(fenotipoTop[0],fenotipoTop[1])==0}\n",
        "''')\n"
      ],
      "execution_count": null,
      "outputs": []
    }
  ]
}